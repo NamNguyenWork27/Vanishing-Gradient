{
 "cells": [
  {
   "cell_type": "code",
   "execution_count": 1,
   "id": "a9ce8611",
   "metadata": {},
   "outputs": [
    {
     "data": {
      "text/plain": [
       "device(type='cuda', index=0)"
      ]
     },
     "execution_count": 1,
     "metadata": {},
     "output_type": "execute_result"
    }
   ],
   "source": [
    "import torch \n",
    "import random \n",
    "import torch.nn as nn \n",
    "import torch.optim as optim \n",
    "import torchvision \n",
    "import matplotlib.pyplot as plt \n",
    "import torchvision.transforms as transforms \n",
    "import numpy as np \n",
    "\n",
    "from torch.utils.data import Dataset, DataLoader, random_split \n",
    "from torchvision.datasets import FashionMNIST \n",
    "\n",
    "device = torch.device('cuda:0' if torch.cuda.is_available() else 'cpu')\n",
    "device "
   ]
  },
  {
   "cell_type": "code",
   "execution_count": 3,
   "id": "22b978be",
   "metadata": {},
   "outputs": [],
   "source": [
    "def set_seed(seed):\n",
    "    random.seed(seed)\n",
    "    np.random.seed(seed)\n",
    "    torch.manual_seed(seed)\n",
    "    torch.cuda.manual_seed(seed)\n",
    "    torch.cuda.manual_seed_all(seed)\n",
    "    torch.backends.cudnn.deterministic = True \n",
    "    torch.backends.cudnn.benchmark = False \n",
    "\n",
    "SEED = 42 \n",
    "set_seed(SEED)"
   ]
  },
  {
   "cell_type": "markdown",
   "id": "a45156d9",
   "metadata": {},
   "source": [
    "### **Prepare dataset**"
   ]
  },
  {
   "cell_type": "code",
   "execution_count": 4,
   "id": "790c097b",
   "metadata": {},
   "outputs": [
    {
     "name": "stdout",
     "output_type": "stream",
     "text": [
      "Train size: 54000\n",
      "Validation size: 6000\n",
      "Test size: 10000\n"
     ]
    }
   ],
   "source": [
    "batch_size = 512 \n",
    "train_dataset = FashionMNIST('./data', \n",
    "                             train=True, \n",
    "                             download=True,\n",
    "                              transform=transforms.ToTensor())\n",
    "test_dataset = FashionMNIST('./data', \n",
    "                            train=False, \n",
    "                            download=True, \n",
    "                            transform=transforms.ToTensor())\n",
    "\n",
    "train_ratio = 0.9 \n",
    "train_size = int(len(train_dataset) * train_ratio)\n",
    "val_size = len(train_dataset) - train_size \n",
    "\n",
    "train_subset, val_subset = random_split(train_dataset, [train_size, val_size])\n",
    "\n",
    "train_loader = DataLoader(train_subset, batch_size=batch_size, shuffle=True)\n",
    "val_loader = DataLoader(val_subset, batch_size=batch_size, shuffle=False)\n",
    "test_loader = DataLoader(test_dataset, batch_size=batch_size, shuffle=False)\n",
    "\n",
    "print(f\"Train size: {len(train_subset)}\")\n",
    "print(f\"Validation size: {len(val_subset)}\")\n",
    "print(f\"Test size: {len(test_dataset)}\")"
   ]
  },
  {
   "cell_type": "markdown",
   "id": "50162d87",
   "metadata": {},
   "source": [
    "### **Build MLP network with `Weight Increasing (std=1.0)`**"
   ]
  },
  {
   "cell_type": "code",
   "execution_count": 8,
   "id": "ff67768c",
   "metadata": {},
   "outputs": [],
   "source": [
    "class MLP(nn.Module):\n",
    "    def __init__(self, input_dims, hidden_dims, output_dims):\n",
    "        super(MLP, self).__init__()\n",
    "        self.layer1 = nn.Linear(input_dims, hidden_dims)\n",
    "        self.layer2 = nn.Linear(hidden_dims, hidden_dims)\n",
    "        self.layer3 = nn.Linear(hidden_dims, hidden_dims)\n",
    "        self.layer4 = nn.Linear(hidden_dims, hidden_dims)\n",
    "        self.layer5 = nn.Linear(hidden_dims, hidden_dims)\n",
    "        self.layer6 = nn.Linear(hidden_dims, hidden_dims)\n",
    "        self.layer7 = nn.Linear(hidden_dims, hidden_dims)\n",
    "        self.output = nn.Linear(hidden_dims, output_dims)\n",
    "\n",
    "        for module in self.modules():\n",
    "            if isinstance(module, nn.Linear):\n",
    "                nn.init.normal_(module.weight, mean=0.0, std=1.0)\n",
    "                nn.init.constant_(module.bias, 0.0)\n",
    "\n",
    "    def forward(self, x):\n",
    "        x = nn.Flatten()(x)\n",
    "        x = self.layer1(x)\n",
    "        x = nn.Sigmoid()(x)\n",
    "        x = self.layer2(x)\n",
    "        x = nn.Sigmoid()(x)\n",
    "        x = self.layer3(x)\n",
    "        x = nn.Sigmoid()(x)\n",
    "        x = self.layer4(x)\n",
    "        x = nn.Sigmoid()(x)\n",
    "        x = self.layer5(x)\n",
    "        x = nn.Sigmoid()(x)\n",
    "        x = self.layer6(x)\n",
    "        x = nn.Sigmoid()(x)\n",
    "        x = self.layer7(x)\n",
    "        x = nn.Sigmoid()(x)\n",
    "        out = self.output(x)\n",
    "\n",
    "        return out"
   ]
  },
  {
   "cell_type": "code",
   "execution_count": 11,
   "id": "710267aa",
   "metadata": {},
   "outputs": [],
   "source": [
    "input_dims = 784\n",
    "hidden_dims = 128\n",
    "output_dims = 10\n",
    "lr = 1e-2\n",
    "\n",
    "model = MLP(input_dims=input_dims,\n",
    "            hidden_dims=hidden_dims,\n",
    "            output_dims=output_dims).to(device)\n",
    "\n",
    "criterion = nn.CrossEntropyLoss()\n",
    "optimizer = optim.SGD(model.parameters(), lr=lr)"
   ]
  },
  {
   "cell_type": "markdown",
   "id": "c69f6ef4",
   "metadata": {},
   "source": [
    "### **Training**"
   ]
  },
  {
   "cell_type": "code",
   "execution_count": 12,
   "id": "6fbcaa88",
   "metadata": {},
   "outputs": [
    {
     "name": "stdout",
     "output_type": "stream",
     "text": [
      "EPOCH 1/100, Train_Loss: 3.6288, Train_Acc: 0.1841, Validation Loss: 1.2930, Val_Acc: 0.2492\n",
      "EPOCH 2/100, Train_Loss: 1.9509, Train_Acc: 0.3196, Validation Loss: 1.0888, Val_Acc: 0.3678\n",
      "EPOCH 3/100, Train_Loss: 1.7038, Train_Acc: 0.4063, Validation Loss: 0.9763, Val_Acc: 0.4342\n",
      "EPOCH 4/100, Train_Loss: 1.5513, Train_Acc: 0.4566, Validation Loss: 0.9036, Val_Acc: 0.4705\n",
      "EPOCH 5/100, Train_Loss: 1.4447, Train_Acc: 0.4903, Validation Loss: 0.8523, Val_Acc: 0.4958\n",
      "EPOCH 6/100, Train_Loss: 1.3652, Train_Acc: 0.5132, Validation Loss: 0.8119, Val_Acc: 0.5183\n",
      "EPOCH 7/100, Train_Loss: 1.3020, Train_Acc: 0.5336, Validation Loss: 0.7790, Val_Acc: 0.5333\n",
      "EPOCH 8/100, Train_Loss: 1.2519, Train_Acc: 0.5496, Validation Loss: 0.7525, Val_Acc: 0.5460\n",
      "EPOCH 9/100, Train_Loss: 1.2102, Train_Acc: 0.5616, Validation Loss: 0.7296, Val_Acc: 0.5583\n",
      "EPOCH 10/100, Train_Loss: 1.1744, Train_Acc: 0.5739, Validation Loss: 0.7083, Val_Acc: 0.5737\n",
      "EPOCH 11/100, Train_Loss: 1.1437, Train_Acc: 0.5835, Validation Loss: 0.6908, Val_Acc: 0.5838\n",
      "EPOCH 12/100, Train_Loss: 1.1165, Train_Acc: 0.5940, Validation Loss: 0.6755, Val_Acc: 0.5945\n",
      "EPOCH 13/100, Train_Loss: 1.0918, Train_Acc: 0.6015, Validation Loss: 0.6614, Val_Acc: 0.6032\n",
      "EPOCH 14/100, Train_Loss: 1.0695, Train_Acc: 0.6106, Validation Loss: 0.6481, Val_Acc: 0.6080\n",
      "EPOCH 15/100, Train_Loss: 1.0506, Train_Acc: 0.6164, Validation Loss: 0.6367, Val_Acc: 0.6160\n",
      "EPOCH 16/100, Train_Loss: 1.0313, Train_Acc: 0.6241, Validation Loss: 0.6268, Val_Acc: 0.6197\n",
      "EPOCH 17/100, Train_Loss: 1.0157, Train_Acc: 0.6296, Validation Loss: 0.6166, Val_Acc: 0.6272\n",
      "EPOCH 18/100, Train_Loss: 1.0006, Train_Acc: 0.6353, Validation Loss: 0.6084, Val_Acc: 0.6315\n",
      "EPOCH 19/100, Train_Loss: 0.9865, Train_Acc: 0.6414, Validation Loss: 0.6005, Val_Acc: 0.6383\n",
      "EPOCH 20/100, Train_Loss: 0.9736, Train_Acc: 0.6459, Validation Loss: 0.5928, Val_Acc: 0.6413\n",
      "EPOCH 21/100, Train_Loss: 0.9617, Train_Acc: 0.6508, Validation Loss: 0.5865, Val_Acc: 0.6453\n",
      "EPOCH 22/100, Train_Loss: 0.9509, Train_Acc: 0.6546, Validation Loss: 0.5797, Val_Acc: 0.6510\n",
      "EPOCH 23/100, Train_Loss: 0.9401, Train_Acc: 0.6592, Validation Loss: 0.5736, Val_Acc: 0.6565\n",
      "EPOCH 24/100, Train_Loss: 0.9300, Train_Acc: 0.6629, Validation Loss: 0.5681, Val_Acc: 0.6597\n",
      "EPOCH 25/100, Train_Loss: 0.9212, Train_Acc: 0.6654, Validation Loss: 0.5632, Val_Acc: 0.6600\n",
      "EPOCH 26/100, Train_Loss: 0.9127, Train_Acc: 0.6689, Validation Loss: 0.5591, Val_Acc: 0.6650\n",
      "EPOCH 27/100, Train_Loss: 0.9040, Train_Acc: 0.6717, Validation Loss: 0.5546, Val_Acc: 0.6662\n",
      "EPOCH 28/100, Train_Loss: 0.8961, Train_Acc: 0.6755, Validation Loss: 0.5502, Val_Acc: 0.6678\n",
      "EPOCH 29/100, Train_Loss: 0.8890, Train_Acc: 0.6775, Validation Loss: 0.5458, Val_Acc: 0.6717\n",
      "EPOCH 30/100, Train_Loss: 0.8817, Train_Acc: 0.6804, Validation Loss: 0.5420, Val_Acc: 0.6772\n",
      "EPOCH 31/100, Train_Loss: 0.8753, Train_Acc: 0.6828, Validation Loss: 0.5382, Val_Acc: 0.6765\n",
      "EPOCH 32/100, Train_Loss: 0.8691, Train_Acc: 0.6860, Validation Loss: 0.5351, Val_Acc: 0.6797\n",
      "EPOCH 33/100, Train_Loss: 0.8619, Train_Acc: 0.6875, Validation Loss: 0.5322, Val_Acc: 0.6795\n",
      "EPOCH 34/100, Train_Loss: 0.8561, Train_Acc: 0.6900, Validation Loss: 0.5286, Val_Acc: 0.6837\n",
      "EPOCH 35/100, Train_Loss: 0.8516, Train_Acc: 0.6922, Validation Loss: 0.5252, Val_Acc: 0.6865\n",
      "EPOCH 36/100, Train_Loss: 0.8457, Train_Acc: 0.6936, Validation Loss: 0.5226, Val_Acc: 0.6868\n",
      "EPOCH 37/100, Train_Loss: 0.8397, Train_Acc: 0.6954, Validation Loss: 0.5201, Val_Acc: 0.6900\n",
      "EPOCH 38/100, Train_Loss: 0.8353, Train_Acc: 0.6974, Validation Loss: 0.5171, Val_Acc: 0.6913\n",
      "EPOCH 39/100, Train_Loss: 0.8307, Train_Acc: 0.6996, Validation Loss: 0.5140, Val_Acc: 0.6962\n",
      "EPOCH 40/100, Train_Loss: 0.8254, Train_Acc: 0.7010, Validation Loss: 0.5116, Val_Acc: 0.6977\n",
      "EPOCH 41/100, Train_Loss: 0.8220, Train_Acc: 0.7018, Validation Loss: 0.5096, Val_Acc: 0.6992\n",
      "EPOCH 42/100, Train_Loss: 0.8172, Train_Acc: 0.7030, Validation Loss: 0.5067, Val_Acc: 0.7003\n",
      "EPOCH 43/100, Train_Loss: 0.8130, Train_Acc: 0.7050, Validation Loss: 0.5046, Val_Acc: 0.7025\n",
      "EPOCH 44/100, Train_Loss: 0.8081, Train_Acc: 0.7063, Validation Loss: 0.5026, Val_Acc: 0.7023\n",
      "EPOCH 45/100, Train_Loss: 0.8050, Train_Acc: 0.7077, Validation Loss: 0.5000, Val_Acc: 0.7053\n",
      "EPOCH 46/100, Train_Loss: 0.8011, Train_Acc: 0.7091, Validation Loss: 0.4983, Val_Acc: 0.7067\n",
      "EPOCH 47/100, Train_Loss: 0.7966, Train_Acc: 0.7102, Validation Loss: 0.4964, Val_Acc: 0.7070\n",
      "EPOCH 48/100, Train_Loss: 0.7939, Train_Acc: 0.7117, Validation Loss: 0.4945, Val_Acc: 0.7063\n",
      "EPOCH 49/100, Train_Loss: 0.7900, Train_Acc: 0.7128, Validation Loss: 0.4924, Val_Acc: 0.7107\n",
      "EPOCH 50/100, Train_Loss: 0.7870, Train_Acc: 0.7150, Validation Loss: 0.4909, Val_Acc: 0.7118\n",
      "EPOCH 51/100, Train_Loss: 0.7830, Train_Acc: 0.7153, Validation Loss: 0.4888, Val_Acc: 0.7130\n",
      "EPOCH 52/100, Train_Loss: 0.7801, Train_Acc: 0.7174, Validation Loss: 0.4869, Val_Acc: 0.7135\n",
      "EPOCH 53/100, Train_Loss: 0.7769, Train_Acc: 0.7186, Validation Loss: 0.4854, Val_Acc: 0.7165\n",
      "EPOCH 54/100, Train_Loss: 0.7741, Train_Acc: 0.7193, Validation Loss: 0.4838, Val_Acc: 0.7147\n",
      "EPOCH 55/100, Train_Loss: 0.7710, Train_Acc: 0.7200, Validation Loss: 0.4816, Val_Acc: 0.7182\n",
      "EPOCH 56/100, Train_Loss: 0.7681, Train_Acc: 0.7216, Validation Loss: 0.4801, Val_Acc: 0.7183\n",
      "EPOCH 57/100, Train_Loss: 0.7644, Train_Acc: 0.7226, Validation Loss: 0.4792, Val_Acc: 0.7222\n",
      "EPOCH 58/100, Train_Loss: 0.7621, Train_Acc: 0.7237, Validation Loss: 0.4777, Val_Acc: 0.7205\n",
      "EPOCH 59/100, Train_Loss: 0.7597, Train_Acc: 0.7249, Validation Loss: 0.4760, Val_Acc: 0.7223\n",
      "EPOCH 60/100, Train_Loss: 0.7570, Train_Acc: 0.7260, Validation Loss: 0.4746, Val_Acc: 0.7232\n",
      "EPOCH 61/100, Train_Loss: 0.7543, Train_Acc: 0.7266, Validation Loss: 0.4731, Val_Acc: 0.7250\n",
      "EPOCH 62/100, Train_Loss: 0.7517, Train_Acc: 0.7274, Validation Loss: 0.4714, Val_Acc: 0.7257\n",
      "EPOCH 63/100, Train_Loss: 0.7500, Train_Acc: 0.7287, Validation Loss: 0.4710, Val_Acc: 0.7257\n",
      "EPOCH 64/100, Train_Loss: 0.7471, Train_Acc: 0.7294, Validation Loss: 0.4693, Val_Acc: 0.7288\n",
      "EPOCH 65/100, Train_Loss: 0.7444, Train_Acc: 0.7301, Validation Loss: 0.4676, Val_Acc: 0.7287\n",
      "EPOCH 66/100, Train_Loss: 0.7424, Train_Acc: 0.7314, Validation Loss: 0.4669, Val_Acc: 0.7282\n",
      "EPOCH 67/100, Train_Loss: 0.7401, Train_Acc: 0.7319, Validation Loss: 0.4655, Val_Acc: 0.7285\n",
      "EPOCH 68/100, Train_Loss: 0.7378, Train_Acc: 0.7326, Validation Loss: 0.4640, Val_Acc: 0.7308\n",
      "EPOCH 69/100, Train_Loss: 0.7355, Train_Acc: 0.7329, Validation Loss: 0.4629, Val_Acc: 0.7320\n",
      "EPOCH 70/100, Train_Loss: 0.7336, Train_Acc: 0.7341, Validation Loss: 0.4626, Val_Acc: 0.7322\n",
      "EPOCH 71/100, Train_Loss: 0.7307, Train_Acc: 0.7343, Validation Loss: 0.4610, Val_Acc: 0.7322\n",
      "EPOCH 72/100, Train_Loss: 0.7292, Train_Acc: 0.7362, Validation Loss: 0.4597, Val_Acc: 0.7325\n",
      "EPOCH 73/100, Train_Loss: 0.7275, Train_Acc: 0.7367, Validation Loss: 0.4584, Val_Acc: 0.7342\n",
      "EPOCH 74/100, Train_Loss: 0.7255, Train_Acc: 0.7370, Validation Loss: 0.4581, Val_Acc: 0.7338\n",
      "EPOCH 75/100, Train_Loss: 0.7230, Train_Acc: 0.7379, Validation Loss: 0.4568, Val_Acc: 0.7342\n",
      "EPOCH 76/100, Train_Loss: 0.7213, Train_Acc: 0.7380, Validation Loss: 0.4565, Val_Acc: 0.7353\n",
      "EPOCH 77/100, Train_Loss: 0.7193, Train_Acc: 0.7397, Validation Loss: 0.4546, Val_Acc: 0.7362\n",
      "EPOCH 78/100, Train_Loss: 0.7173, Train_Acc: 0.7400, Validation Loss: 0.4535, Val_Acc: 0.7370\n",
      "EPOCH 79/100, Train_Loss: 0.7160, Train_Acc: 0.7417, Validation Loss: 0.4529, Val_Acc: 0.7365\n",
      "EPOCH 80/100, Train_Loss: 0.7138, Train_Acc: 0.7415, Validation Loss: 0.4524, Val_Acc: 0.7360\n",
      "EPOCH 81/100, Train_Loss: 0.7119, Train_Acc: 0.7424, Validation Loss: 0.4512, Val_Acc: 0.7368\n",
      "EPOCH 82/100, Train_Loss: 0.7104, Train_Acc: 0.7424, Validation Loss: 0.4505, Val_Acc: 0.7385\n",
      "EPOCH 83/100, Train_Loss: 0.7082, Train_Acc: 0.7434, Validation Loss: 0.4493, Val_Acc: 0.7393\n",
      "EPOCH 84/100, Train_Loss: 0.7066, Train_Acc: 0.7436, Validation Loss: 0.4485, Val_Acc: 0.7385\n",
      "EPOCH 85/100, Train_Loss: 0.7056, Train_Acc: 0.7443, Validation Loss: 0.4478, Val_Acc: 0.7403\n",
      "EPOCH 86/100, Train_Loss: 0.7032, Train_Acc: 0.7448, Validation Loss: 0.4472, Val_Acc: 0.7390\n",
      "EPOCH 87/100, Train_Loss: 0.7015, Train_Acc: 0.7456, Validation Loss: 0.4456, Val_Acc: 0.7417\n",
      "EPOCH 88/100, Train_Loss: 0.7002, Train_Acc: 0.7461, Validation Loss: 0.4451, Val_Acc: 0.7423\n",
      "EPOCH 89/100, Train_Loss: 0.6987, Train_Acc: 0.7467, Validation Loss: 0.4441, Val_Acc: 0.7423\n",
      "EPOCH 90/100, Train_Loss: 0.6972, Train_Acc: 0.7473, Validation Loss: 0.4432, Val_Acc: 0.7425\n",
      "EPOCH 91/100, Train_Loss: 0.6955, Train_Acc: 0.7477, Validation Loss: 0.4434, Val_Acc: 0.7417\n",
      "EPOCH 92/100, Train_Loss: 0.6944, Train_Acc: 0.7485, Validation Loss: 0.4415, Val_Acc: 0.7433\n",
      "EPOCH 93/100, Train_Loss: 0.6923, Train_Acc: 0.7492, Validation Loss: 0.4411, Val_Acc: 0.7447\n",
      "EPOCH 94/100, Train_Loss: 0.6915, Train_Acc: 0.7499, Validation Loss: 0.4399, Val_Acc: 0.7448\n",
      "EPOCH 95/100, Train_Loss: 0.6898, Train_Acc: 0.7497, Validation Loss: 0.4397, Val_Acc: 0.7438\n",
      "EPOCH 96/100, Train_Loss: 0.6881, Train_Acc: 0.7512, Validation Loss: 0.4387, Val_Acc: 0.7427\n",
      "EPOCH 97/100, Train_Loss: 0.6863, Train_Acc: 0.7516, Validation Loss: 0.4387, Val_Acc: 0.7443\n",
      "EPOCH 98/100, Train_Loss: 0.6858, Train_Acc: 0.7516, Validation Loss: 0.4372, Val_Acc: 0.7458\n",
      "EPOCH 99/100, Train_Loss: 0.6839, Train_Acc: 0.7520, Validation Loss: 0.4376, Val_Acc: 0.7450\n",
      "EPOCH 100/100, Train_Loss: 0.6822, Train_Acc: 0.7532, Validation Loss: 0.4357, Val_Acc: 0.7485\n"
     ]
    }
   ],
   "source": [
    "epochs = 100\n",
    "train_loss_lst = []\n",
    "train_acc_lst = []\n",
    "val_loss_lst = []\n",
    "val_acc_lst = []\n",
    "\n",
    "for epoch in range(epochs):\n",
    "    train_loss = 0.0\n",
    "    train_acc = 0.0\n",
    "    count = 0\n",
    "\n",
    "    model.train()\n",
    "    for X_train, y_train in train_loader:\n",
    "        X_train, y_train = X_train.to(device), y_train.to(device)\n",
    "        optimizer.zero_grad()\n",
    "        outputs = model(X_train)\n",
    "        loss = criterion(outputs, y_train)\n",
    "        loss.backward()\n",
    "        optimizer.step()\n",
    "        train_loss += loss.item()\n",
    "        train_acc += (torch.argmax(outputs, 1) == y_train).sum().item()\n",
    "        count += len(y_train)\n",
    "\n",
    "    train_loss /= len(train_loader)\n",
    "    train_loss_lst.append(train_loss)\n",
    "    train_acc /= count\n",
    "    train_acc_lst.append(train_acc)\n",
    "\n",
    "    val_loss = 0.0\n",
    "    val_acc = 0.0\n",
    "    count = 0\n",
    "    model.eval()\n",
    "    with torch.no_grad():\n",
    "        for X_val, y_val in val_loader:\n",
    "            X_val, y_val = X_val.to(device), y_val.to(device)\n",
    "            outputs = model(X_val)\n",
    "            loss = criterion(outputs, y_val)\n",
    "            val_loss += loss.item()\n",
    "            val_acc += (torch.argmax(outputs, 1) == y_val).sum().item()\n",
    "            count += len(y_val)\n",
    "\n",
    "    val_loss /= len(test_loader)\n",
    "    val_loss_lst.append(val_loss)\n",
    "    val_acc /= count\n",
    "    val_acc_lst.append(val_acc)\n",
    "\n",
    "    print(f\"EPOCH {epoch+1}/{epochs}, Train_Loss: {train_loss:.4f}, Train_Acc: {train_acc:.4f}, Validation Loss: {val_loss:.4f}, Val_Acc: {val_acc:.4f}\")"
   ]
  },
  {
   "cell_type": "code",
   "execution_count": 13,
   "id": "5b6d1eaa",
   "metadata": {},
   "outputs": [
    {
     "data": {
      "image/png": "[encoded data removed]",
      "text/plain": [
       "<Figure size 1200x1000 with 4 Axes>"
      ]
     },
     "metadata": {},
     "output_type": "display_data"
    }
   ],
   "source": [
    "fig, ax = plt.subplots(2, 2, figsize=(12, 10))\n",
    "ax[0, 0].plot(train_loss_lst, color='green')\n",
    "ax[0, 0].set(xlabel='Epoch', ylabel='Loss')\n",
    "ax[0, 0].set_title('Trainning Loss')\n",
    "\n",
    "ax[0, 1].plot(val_loss_lst, color='orange')\n",
    "ax[0, 1].set(xlabel='Epoch', ylabel='Loss')\n",
    "ax[0, 1].set_title('Validation Loss')\n",
    "\n",
    "ax[1, 0].plot(train_acc_lst, color='green')\n",
    "ax[1, 0].set(xlabel='Epoch', ylabel='Accuracy')\n",
    "ax[1, 0].set_title('Training Accuracy')\n",
    "\n",
    "ax[1, 1].plot(val_acc_lst, color='orange')\n",
    "ax[1, 1].set(xlabel='Epoch', ylabel='Accuracy')\n",
    "ax[1, 1].set_title('Validation Accuracy')\n",
    "\n",
    "plt.show()"
   ]
  },
  {
   "cell_type": "markdown",
   "id": "3a2be336",
   "metadata": {},
   "source": [
    "### **Evaluation**"
   ]
  },
  {
   "cell_type": "code",
   "execution_count": 14,
   "id": "10288420",
   "metadata": {},
   "outputs": [
    {
     "name": "stdout",
     "output_type": "stream",
     "text": [
      "Evaluation in val set: \n",
      "Accuracy: 0.7485\n"
     ]
    }
   ],
   "source": [
    "val_target = []\n",
    "val_predict = []\n",
    "\n",
    "model.eval()\n",
    "with torch.no_grad():\n",
    "    for X_val, y_val in val_loader:\n",
    "        X_val = X_val.to(device)\n",
    "        y_val = y_val.to(device)\n",
    "        outputs = model(X_val)\n",
    "\n",
    "        val_predict.append(outputs.cpu())\n",
    "        val_target.append(y_val.cpu())\n",
    "\n",
    "    val_predict = torch.cat(val_predict)\n",
    "    val_target = torch.cat(val_target)\n",
    "    val_acc = (torch.argmax(val_predict, 1) == val_target).sum().item() / len(val_target)\n",
    "\n",
    "    print('Evaluation in val set: ')\n",
    "    print(f\"Accuracy: {val_acc}\")"
   ]
  },
  {
   "cell_type": "code",
   "execution_count": 15,
   "id": "58813558",
   "metadata": {},
   "outputs": [
    {
     "name": "stdout",
     "output_type": "stream",
     "text": [
      "Evaluation on test set: \n",
      "Accuracy: 0.7361\n"
     ]
    }
   ],
   "source": [
    "test_target = []\n",
    "test_predict = []\n",
    "\n",
    "model.eval()\n",
    "with torch.no_grad():\n",
    "    for X_test, y_test in test_loader:\n",
    "        X_test = X_test.to(device)\n",
    "        y_test = y_test.to(device)\n",
    "        outputs = model(X_test)\n",
    "\n",
    "        test_predict.append(outputs.cpu())\n",
    "        test_target.append(y_test.cpu())\n",
    "\n",
    "    test_predict = torch.cat(test_predict)\n",
    "    test_target = torch.cat(test_target)\n",
    "    test_acc = (torch.argmax(test_predict, 1) == test_target).sum().item() / len(test_target)\n",
    "\n",
    "    print('Evaluation on test set: ')\n",
    "    print(f\"Accuracy: {test_acc}\")"
   ]
  },
  {
   "cell_type": "code",
   "execution_count": null,
   "id": "673e09c7",
   "metadata": {},
   "outputs": [],
   "source": []
  }
 ],
 "metadata": {
  "kernelspec": {
   "display_name": "gen_music",
   "language": "python",
   "name": "python3"
  },
  "language_info": {
   "codemirror_mode": {
    "name": "ipython",
    "version": 3
   },
   "file_extension": ".py",
   "mimetype": "text/x-python",
   "name": "python",
   "nbconvert_exporter": "python",
   "pygments_lexer": "ipython3",
   "version": "3.10.18"
  }
 },
 "nbformat": 4,
 "nbformat_minor": 5
}
